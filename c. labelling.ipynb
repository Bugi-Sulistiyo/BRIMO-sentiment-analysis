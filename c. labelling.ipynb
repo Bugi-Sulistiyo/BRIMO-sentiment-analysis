{
 "cells": [
  {
   "cell_type": "markdown",
   "metadata": {},
   "source": [
    "### Import the necessary packages"
   ]
  },
  {
   "cell_type": "code",
   "execution_count": 14,
   "metadata": {},
   "outputs": [],
   "source": [
    "import csv\n",
    "import requests\n",
    "import pandas as pd\n",
    "from io import StringIO\n",
    "from nltk.tokenize import word_tokenize"
   ]
  },
  {
   "cell_type": "markdown",
   "metadata": {},
   "source": [
    "### Label the dataset"
   ]
  },
  {
   "cell_type": "code",
   "execution_count": 7,
   "metadata": {},
   "outputs": [],
   "source": [
    "def get_data(url:str, words: dict = {}):\n",
    "    \"\"\"this function reads the data from the url and stores it in a dictionary\n",
    "\n",
    "    Args:\n",
    "        url (str): the url of the data\n",
    "        words (dict, optional): the variable to store the words. Defaults to {}.\n",
    "\n",
    "    Returns:\n",
    "        dict: the dictionary containing the words\n",
    "    \"\"\"\n",
    "    response = requests.get(url)\n",
    "    if response.status_code == 200:\n",
    "        reader = csv.reader(StringIO(response.text), delimiter=\",\")\n",
    "        for row in reader:\n",
    "            words[row[0]] = int(row[1])\n",
    "    else:\n",
    "        print(\"Error\")\n",
    "    return words"
   ]
  },
  {
   "cell_type": "code",
   "execution_count": 13,
   "metadata": {},
   "outputs": [],
   "source": [
    "def count_sentiment(text: str,\n",
    "                lexicon_plus: dict, lexicon_minus: dict):\n",
    "    \"\"\"this function counts the sentiment of the text\n",
    "\n",
    "    Args:\n",
    "        text (str): the text to be analyzed\n",
    "        lexicon_plus (dict): the positive lexicon\n",
    "        lexicon_minus (dict): the negative lexicon\n",
    "\n",
    "    Returns:\n",
    "        int: the sentiment score\n",
    "    \"\"\"\n",
    "    score = 0\n",
    "    for word in word_tokenize(text):\n",
    "        if word in lexicon_plus.keys():\n",
    "            score += lexicon_plus[word]\n",
    "        if word in lexicon_minus.keys():\n",
    "            score += lexicon_minus[word]\n",
    "    return score"
   ]
  },
  {
   "cell_type": "code",
   "execution_count": 29,
   "metadata": {},
   "outputs": [],
   "source": [
    "def sentiment_label(score: int):\n",
    "    \"\"\"this function labels the sentiment\n",
    "\n",
    "    Args:\n",
    "        score (int): the sentiment score\n",
    "\n",
    "    Returns:\n",
    "        str: the sentiment label\n",
    "    \"\"\"\n",
    "    if score > 0:\n",
    "        return \"positive\"\n",
    "    elif score < 0:\n",
    "        return \"negative\"\n",
    "    else:\n",
    "        return \"neutral\""
   ]
  },
  {
   "cell_type": "code",
   "execution_count": 8,
   "metadata": {},
   "outputs": [],
   "source": [
    "url = {\n",
    "    \"positives\": \"https://raw.githubusercontent.com/angelmetanosaa/dataset/main/lexicon_positive.csv\",\n",
    "    \"negatives\": \"https://raw.githubusercontent.com/angelmetanosaa/dataset/main/lexicon_negative.csv\"\n",
    "}\n",
    "\n",
    "positives_words = get_data(url[\"positives\"])\n",
    "negatives_words = get_data(url[\"negatives\"])"
   ]
  },
  {
   "cell_type": "code",
   "execution_count": 22,
   "metadata": {},
   "outputs": [
    {
     "data": {
      "text/html": [
       "<div>\n",
       "<style scoped>\n",
       "    .dataframe tbody tr th:only-of-type {\n",
       "        vertical-align: middle;\n",
       "    }\n",
       "\n",
       "    .dataframe tbody tr th {\n",
       "        vertical-align: top;\n",
       "    }\n",
       "\n",
       "    .dataframe thead th {\n",
       "        text-align: right;\n",
       "    }\n",
       "</style>\n",
       "<table border=\"1\" class=\"dataframe\">\n",
       "  <thead>\n",
       "    <tr style=\"text-align: right;\">\n",
       "      <th></th>\n",
       "      <th>content</th>\n",
       "      <th>score</th>\n",
       "    </tr>\n",
       "  </thead>\n",
       "  <tbody>\n",
       "    <tr>\n",
       "      <th>7957</th>\n",
       "      <td>fasst kartu bri mendaftarkanya</td>\n",
       "      <td>5</td>\n",
       "    </tr>\n",
       "    <tr>\n",
       "      <th>7958</th>\n",
       "      <td>layan cepat aman</td>\n",
       "      <td>5</td>\n",
       "    </tr>\n",
       "    <tr>\n",
       "      <th>7959</th>\n",
       "      <td>tidak sih kalau kasih info promo tidak malem g...</td>\n",
       "      <td>1</td>\n",
       "    </tr>\n",
       "    <tr>\n",
       "      <th>7960</th>\n",
       "      <td>trimakasih</td>\n",
       "      <td>5</td>\n",
       "    </tr>\n",
       "    <tr>\n",
       "      <th>7961</th>\n",
       "      <td>apk nya keren</td>\n",
       "      <td>5</td>\n",
       "    </tr>\n",
       "  </tbody>\n",
       "</table>\n",
       "</div>"
      ],
      "text/plain": [
       "                                                content  score\n",
       "7957                     fasst kartu bri mendaftarkanya      5\n",
       "7958                                   layan cepat aman      5\n",
       "7959  tidak sih kalau kasih info promo tidak malem g...      1\n",
       "7960                                         trimakasih      5\n",
       "7961                                      apk nya keren      5"
      ]
     },
     "execution_count": 22,
     "metadata": {},
     "output_type": "execute_result"
    }
   ],
   "source": [
    "dataset = pd.read_csv(\"./clean_brimo_reviews.csv\")\n",
    "dataset.tail(5)"
   ]
  },
  {
   "cell_type": "code",
   "execution_count": 25,
   "metadata": {},
   "outputs": [],
   "source": [
    "dataset[\"sentiment_score\"] = dataset.content.apply(count_sentiment, args=(positives_words, negatives_words))"
   ]
  },
  {
   "cell_type": "code",
   "execution_count": 30,
   "metadata": {},
   "outputs": [],
   "source": [
    "dataset[\"sentiment\"] = dataset.sentiment_score.apply(sentiment_label)"
   ]
  },
  {
   "cell_type": "code",
   "execution_count": 31,
   "metadata": {},
   "outputs": [
    {
     "data": {
      "text/html": [
       "<div>\n",
       "<style scoped>\n",
       "    .dataframe tbody tr th:only-of-type {\n",
       "        vertical-align: middle;\n",
       "    }\n",
       "\n",
       "    .dataframe tbody tr th {\n",
       "        vertical-align: top;\n",
       "    }\n",
       "\n",
       "    .dataframe thead th {\n",
       "        text-align: right;\n",
       "    }\n",
       "</style>\n",
       "<table border=\"1\" class=\"dataframe\">\n",
       "  <thead>\n",
       "    <tr style=\"text-align: right;\">\n",
       "      <th></th>\n",
       "      <th>content</th>\n",
       "      <th>score</th>\n",
       "      <th>sentiment_score</th>\n",
       "      <th>sentiment</th>\n",
       "    </tr>\n",
       "  </thead>\n",
       "  <tbody>\n",
       "    <tr>\n",
       "      <th>0</th>\n",
       "      <td>aplikasi bagus</td>\n",
       "      <td>5</td>\n",
       "      <td>-16</td>\n",
       "      <td>negative</td>\n",
       "    </tr>\n",
       "    <tr>\n",
       "      <th>1</th>\n",
       "      <td>beli token listrik udah sukses</td>\n",
       "      <td>3</td>\n",
       "      <td>0</td>\n",
       "      <td>neutral</td>\n",
       "    </tr>\n",
       "    <tr>\n",
       "      <th>2</th>\n",
       "      <td>bagus</td>\n",
       "      <td>5</td>\n",
       "      <td>-8</td>\n",
       "      <td>negative</td>\n",
       "    </tr>\n",
       "    <tr>\n",
       "      <th>3</th>\n",
       "      <td>aplikasi nya keren tf saldo min</td>\n",
       "      <td>5</td>\n",
       "      <td>-4</td>\n",
       "      <td>negative</td>\n",
       "    </tr>\n",
       "    <tr>\n",
       "      <th>4</th>\n",
       "      <td>bantu</td>\n",
       "      <td>5</td>\n",
       "      <td>-8</td>\n",
       "      <td>negative</td>\n",
       "    </tr>\n",
       "    <tr>\n",
       "      <th>...</th>\n",
       "      <td>...</td>\n",
       "      <td>...</td>\n",
       "      <td>...</td>\n",
       "      <td>...</td>\n",
       "    </tr>\n",
       "    <tr>\n",
       "      <th>7957</th>\n",
       "      <td>fasst kartu bri mendaftarkanya</td>\n",
       "      <td>5</td>\n",
       "      <td>0</td>\n",
       "      <td>neutral</td>\n",
       "    </tr>\n",
       "    <tr>\n",
       "      <th>7958</th>\n",
       "      <td>layan cepat aman</td>\n",
       "      <td>5</td>\n",
       "      <td>-10</td>\n",
       "      <td>negative</td>\n",
       "    </tr>\n",
       "    <tr>\n",
       "      <th>7959</th>\n",
       "      <td>tidak sih kalau kasih info promo tidak malem g...</td>\n",
       "      <td>1</td>\n",
       "      <td>-36</td>\n",
       "      <td>negative</td>\n",
       "    </tr>\n",
       "    <tr>\n",
       "      <th>7960</th>\n",
       "      <td>trimakasih</td>\n",
       "      <td>5</td>\n",
       "      <td>8</td>\n",
       "      <td>positive</td>\n",
       "    </tr>\n",
       "    <tr>\n",
       "      <th>7961</th>\n",
       "      <td>apk nya keren</td>\n",
       "      <td>5</td>\n",
       "      <td>0</td>\n",
       "      <td>neutral</td>\n",
       "    </tr>\n",
       "  </tbody>\n",
       "</table>\n",
       "<p>7962 rows × 4 columns</p>\n",
       "</div>"
      ],
      "text/plain": [
       "                                                content  ...  sentiment\n",
       "0                                        aplikasi bagus  ...   negative\n",
       "1                        beli token listrik udah sukses  ...    neutral\n",
       "2                                                 bagus  ...   negative\n",
       "3                       aplikasi nya keren tf saldo min  ...   negative\n",
       "4                                                 bantu  ...   negative\n",
       "...                                                 ...  ...        ...\n",
       "7957                     fasst kartu bri mendaftarkanya  ...    neutral\n",
       "7958                                   layan cepat aman  ...   negative\n",
       "7959  tidak sih kalau kasih info promo tidak malem g...  ...   negative\n",
       "7960                                         trimakasih  ...   positive\n",
       "7961                                      apk nya keren  ...    neutral\n",
       "\n",
       "[7962 rows x 4 columns]"
      ]
     },
     "execution_count": 31,
     "metadata": {},
     "output_type": "execute_result"
    }
   ],
   "source": [
    "dataset"
   ]
  },
  {
   "cell_type": "code",
   "execution_count": 37,
   "metadata": {},
   "outputs": [
    {
     "data": {
      "text/html": [
       "<div>\n",
       "<style scoped>\n",
       "    .dataframe tbody tr th:only-of-type {\n",
       "        vertical-align: middle;\n",
       "    }\n",
       "\n",
       "    .dataframe tbody tr th {\n",
       "        vertical-align: top;\n",
       "    }\n",
       "\n",
       "    .dataframe thead th {\n",
       "        text-align: right;\n",
       "    }\n",
       "</style>\n",
       "<table border=\"1\" class=\"dataframe\">\n",
       "  <thead>\n",
       "    <tr style=\"text-align: right;\">\n",
       "      <th></th>\n",
       "      <th>sentiment</th>\n",
       "      <th>count</th>\n",
       "      <th>percentage</th>\n",
       "    </tr>\n",
       "  </thead>\n",
       "  <tbody>\n",
       "    <tr>\n",
       "      <th>0</th>\n",
       "      <td>negative</td>\n",
       "      <td>4410</td>\n",
       "      <td>55.388093</td>\n",
       "    </tr>\n",
       "    <tr>\n",
       "      <th>1</th>\n",
       "      <td>positive</td>\n",
       "      <td>2346</td>\n",
       "      <td>29.464959</td>\n",
       "    </tr>\n",
       "    <tr>\n",
       "      <th>2</th>\n",
       "      <td>neutral</td>\n",
       "      <td>1206</td>\n",
       "      <td>15.146948</td>\n",
       "    </tr>\n",
       "  </tbody>\n",
       "</table>\n",
       "</div>"
      ],
      "text/plain": [
       "  sentiment  count  percentage\n",
       "0  negative   4410   55.388093\n",
       "1  positive   2346   29.464959\n",
       "2   neutral   1206   15.146948"
      ]
     },
     "execution_count": 37,
     "metadata": {},
     "output_type": "execute_result"
    }
   ],
   "source": [
    "summary_info = pd.DataFrame(dataset.sentiment.value_counts()).reset_index()\n",
    "summary_info[\"percentage\"] = summary_info[\"count\"] / summary_info[\"count\"].sum() * 100\n",
    "summary_info"
   ]
  },
  {
   "cell_type": "code",
   "execution_count": 38,
   "metadata": {},
   "outputs": [],
   "source": [
    "dataset.to_csv(\"dataset_sentiment.csv\", index=False)"
   ]
  }
 ],
 "metadata": {
  "kernelspec": {
   "display_name": "dicoding_venv_3.12",
   "language": "python",
   "name": "python3"
  },
  "language_info": {
   "codemirror_mode": {
    "name": "ipython",
    "version": 3
   },
   "file_extension": ".py",
   "mimetype": "text/x-python",
   "name": "python",
   "nbconvert_exporter": "python",
   "pygments_lexer": "ipython3",
   "version": "3.12.4"
  }
 },
 "nbformat": 4,
 "nbformat_minor": 2
}
