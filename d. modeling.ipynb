{
 "cells": [
  {
   "cell_type": "code",
   "execution_count": 20,
   "metadata": {},
   "outputs": [],
   "source": [
    "import pandas as pd\n",
    "\n",
    "from nltk.tokenize import word_tokenize\n",
    "from sklearn.feature_extraction.text import TfidfVectorizer\n",
    "from sklearn.feature_extraction.text import CountVectorizer\n",
    "from sklearn.model_selection import train_test_split\n",
    "\n",
    "from sklearn.naive_bayes import MultinomialNB, BernoulliNB, GaussianNB\n",
    "from sklearn.ensemble import RandomForestClassifier, AdaBoostClassifier\n",
    "from sklearn.linear_model import LogisticRegression\n",
    "from sklearn.tree import DecisionTreeClassifier\n",
    "\n",
    "from sklearn.metrics import accuracy_score"
   ]
  },
  {
   "cell_type": "code",
   "execution_count": 9,
   "metadata": {},
   "outputs": [
    {
     "data": {
      "text/html": [
       "<div>\n",
       "<style scoped>\n",
       "    .dataframe tbody tr th:only-of-type {\n",
       "        vertical-align: middle;\n",
       "    }\n",
       "\n",
       "    .dataframe tbody tr th {\n",
       "        vertical-align: top;\n",
       "    }\n",
       "\n",
       "    .dataframe thead th {\n",
       "        text-align: right;\n",
       "    }\n",
       "</style>\n",
       "<table border=\"1\" class=\"dataframe\">\n",
       "  <thead>\n",
       "    <tr style=\"text-align: right;\">\n",
       "      <th></th>\n",
       "      <th>content</th>\n",
       "      <th>score</th>\n",
       "      <th>sentiment_score</th>\n",
       "      <th>sentiment</th>\n",
       "    </tr>\n",
       "  </thead>\n",
       "  <tbody>\n",
       "    <tr>\n",
       "      <th>0</th>\n",
       "      <td>aplikasi bagus</td>\n",
       "      <td>5</td>\n",
       "      <td>-16</td>\n",
       "      <td>negative</td>\n",
       "    </tr>\n",
       "    <tr>\n",
       "      <th>1</th>\n",
       "      <td>beli token listrik udah sukses</td>\n",
       "      <td>3</td>\n",
       "      <td>0</td>\n",
       "      <td>neutral</td>\n",
       "    </tr>\n",
       "  </tbody>\n",
       "</table>\n",
       "</div>"
      ],
      "text/plain": [
       "                          content  score  sentiment_score sentiment\n",
       "0                  aplikasi bagus      5              -16  negative\n",
       "1  beli token listrik udah sukses      3                0   neutral"
      ]
     },
     "execution_count": 9,
     "metadata": {},
     "output_type": "execute_result"
    }
   ],
   "source": [
    "dataset = pd.read_csv('./dataset_sentiment.csv')\n",
    "dataset.head(2)"
   ]
  },
  {
   "cell_type": "code",
   "execution_count": 13,
   "metadata": {},
   "outputs": [],
   "source": [
    "tfidf_vectorizer = TfidfVectorizer()\n",
    "bow_vectorizer = CountVectorizer()"
   ]
  },
  {
   "cell_type": "code",
   "execution_count": 14,
   "metadata": {},
   "outputs": [],
   "source": [
    "tfidf_matrix = tfidf_vectorizer.fit_transform(dataset.content)\n",
    "bow_matrix = bow_vectorizer.fit_transform(dataset.content)"
   ]
  },
  {
   "cell_type": "code",
   "execution_count": 24,
   "metadata": {},
   "outputs": [
    {
     "data": {
      "text/plain": [
       "array(['aaa', 'aagar', 'aamiin', ..., 'zi', 'zonk', 'zozz'], dtype=object)"
      ]
     },
     "execution_count": 24,
     "metadata": {},
     "output_type": "execute_result"
    }
   ],
   "source": [
    "tfidf_vectorizer.get_feature_names_out()"
   ]
  },
  {
   "cell_type": "code",
   "execution_count": 38,
   "metadata": {},
   "outputs": [],
   "source": [
    "ranforest = RandomForestClassifier()\n",
    "logistic = LogisticRegression()\n",
    "tree = DecisionTreeClassifier(criterion='entropy')"
   ]
  },
  {
   "cell_type": "code",
   "execution_count": 39,
   "metadata": {},
   "outputs": [],
   "source": [
    "tfidf_features = pd.DataFrame(tfidf_matrix.toarray(),\n",
    "                            columns=tfidf_vectorizer.get_feature_names_out())\n",
    "bow_features = pd.DataFrame(bow_matrix.toarray(),\n",
    "                            columns=bow_vectorizer.get_feature_names_out())"
   ]
  },
  {
   "cell_type": "code",
   "execution_count": 40,
   "metadata": {},
   "outputs": [],
   "source": [
    "tfidf_x_train, tfidf_x_test, tfidf_y_train, tfidf_y_test = train_test_split(tfidf_features, dataset.sentiment,\n",
    "                                                                            test_size=.15, random_state=1915)\n",
    "bow_x_train, bow_x_test, bow_y_train, bow_y_test = train_test_split(bow_features, dataset.sentiment,\n",
    "                                                                    test_size=.15, random_state=1915)"
   ]
  },
  {
   "cell_type": "code",
   "execution_count": 41,
   "metadata": {},
   "outputs": [
    {
     "name": "stdout",
     "output_type": "stream",
     "text": [
      "RandomForest with TFIDF test: 0.8853556485355648\n",
      "RandomForest with TFIDF train: 1.0\n",
      "RandomForest with BOW test: 0.8803347280334728\n",
      "RandomForest with BOW train: 1.0\n",
      "\n",
      "LogisticRegression with TFIDF test: 0.8870292887029289\n",
      "LogisticRegression with TFIDF train: 0.9518250332495937\n",
      "LogisticRegression with BOW test: 0.8945606694560669\n",
      "LogisticRegression with BOW train: 0.9683759420718191\n",
      "\n",
      "DecisionTree with BOW test: 0.8661087866108786\n",
      "DecisionTree with BOW train: 1.0\n",
      "\n"
     ]
    }
   ],
   "source": [
    "ranforest.fit(tfidf_x_train, tfidf_y_train)\n",
    "print(f'RandomForest with TFIDF test: {accuracy_score(tfidf_y_test, ranforest.predict(tfidf_x_test))}',\n",
    "      f'RandomForest with TFIDF train: {accuracy_score(tfidf_y_train, ranforest.predict(tfidf_x_train))}',\n",
    "      sep='\\n')\n",
    "ranforest.fit(bow_x_train, bow_y_train)\n",
    "print(f'RandomForest with BOW test: {accuracy_score(bow_y_test, ranforest.predict(bow_x_test))}',\n",
    "      f'RandomForest with BOW train: {accuracy_score(bow_y_train, ranforest.predict(bow_x_train))}',\n",
    "      sep='\\n', end='\\n\\n')\n",
    "\n",
    "logistic.fit(tfidf_x_train, tfidf_y_train)\n",
    "print(f'LogisticRegression with TFIDF test: {accuracy_score(tfidf_y_test, logistic.predict(tfidf_x_test))}',\n",
    "      f'LogisticRegression with TFIDF train: {accuracy_score(tfidf_y_train, logistic.predict(tfidf_x_train))}',\n",
    "      sep='\\n')\n",
    "logistic.fit(bow_x_train, bow_y_train)\n",
    "print(f'LogisticRegression with BOW test: {accuracy_score(bow_y_test, logistic.predict(bow_x_test))}',\n",
    "      f'LogisticRegression with BOW train: {accuracy_score(bow_y_train, logistic.predict(bow_x_train))}',\n",
    "      sep='\\n', end='\\n\\n')\n",
    "\n",
    "tree.fit(bow_x_train, bow_y_train)\n",
    "print(f'DecisionTree with BOW test: {accuracy_score(bow_y_test, tree.predict(bow_x_test))}',\n",
    "      f'DecisionTree with BOW train: {accuracy_score(bow_y_train, tree.predict(bow_x_train))}',\n",
    "      sep='\\n', end='\\n\\n')"
   ]
  },
  {
   "cell_type": "code",
   "execution_count": 52,
   "metadata": {},
   "outputs": [
    {
     "name": "stdout",
     "output_type": "stream",
     "text": [
      "['positive']\n"
     ]
    },
    {
     "name": "stderr",
     "output_type": "stream",
     "text": [
      "d:\\Programming\\Python\\Env_storage\\dicoding_venv_3.12\\Lib\\site-packages\\sklearn\\base.py:493: UserWarning: X does not have valid feature names, but RandomForestClassifier was fitted with feature names\n",
      "  warnings.warn(\n"
     ]
    }
   ],
   "source": [
    "test_text = \"aplikasi keren banget\"\n",
    "test_text = tfidf_vectorizer.transform([test_text])\n",
    "print(ranforest.predict(test_text))"
   ]
  }
 ],
 "metadata": {
  "kernelspec": {
   "display_name": "dicoding_venv_3.12",
   "language": "python",
   "name": "python3"
  },
  "language_info": {
   "codemirror_mode": {
    "name": "ipython",
    "version": 3
   },
   "file_extension": ".py",
   "mimetype": "text/x-python",
   "name": "python",
   "nbconvert_exporter": "python",
   "pygments_lexer": "ipython3",
   "version": "3.12.4"
  }
 },
 "nbformat": 4,
 "nbformat_minor": 2
}
